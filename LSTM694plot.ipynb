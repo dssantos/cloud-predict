{
 "cells": [
  {
   "cell_type": "markdown",
   "id": "ceded012",
   "metadata": {},
   "source": [
    "### Plotagens do modelo LSTM com o arquivo 694.csv"
   ]
  },
  {
   "cell_type": "code",
   "execution_count": 1,
   "id": "9e023859",
   "metadata": {},
   "outputs": [],
   "source": [
    "import warnings\n",
    "warnings.filterwarnings('ignore')\n",
    "import numpy as np\n",
    "import pandas as pd\n",
    "import matplotlib.pyplot as plt\n",
    "\n",
    "from tensorflow.random import set_seed\n",
    "from tensorflow.keras.models import Sequential\n",
    "from tensorflow.keras.layers import Dense, LSTM, Dropout\n",
    "from tensorflow.keras.callbacks import EarlyStopping\n",
    "\n",
    "from sklearn.feature_selection import SelectKBest\n",
    "from sklearn.model_selection import GridSearchCV\n",
    "from sklearn.neural_network import MLPRegressor\n",
    "from sklearn.preprocessing import MinMaxScaler\n",
    "from sklearn import datasets, linear_model\n",
    "from sklearn.metrics import mean_squared_error, r2_score, explained_variance_score, max_error, mean_absolute_error"
   ]
  },
  {
   "cell_type": "code",
   "execution_count": 2,
   "id": "263828be",
   "metadata": {},
   "outputs": [
    {
     "data": {
      "text/html": [
       "<div>\n",
       "<style scoped>\n",
       "    .dataframe tbody tr th:only-of-type {\n",
       "        vertical-align: middle;\n",
       "    }\n",
       "\n",
       "    .dataframe tbody tr th {\n",
       "        vertical-align: top;\n",
       "    }\n",
       "\n",
       "    .dataframe thead th {\n",
       "        text-align: right;\n",
       "    }\n",
       "</style>\n",
       "<table border=\"1\" class=\"dataframe\">\n",
       "  <thead>\n",
       "    <tr style=\"text-align: right;\">\n",
       "      <th></th>\n",
       "      <th>machine_id</th>\n",
       "      <th>cpu</th>\n",
       "      <th>mem</th>\n",
       "      <th>mem_gps</th>\n",
       "      <th>mkpi</th>\n",
       "      <th>net_in</th>\n",
       "      <th>net_out</th>\n",
       "      <th>disk_io_percent</th>\n",
       "    </tr>\n",
       "    <tr>\n",
       "      <th>time_stamp</th>\n",
       "      <th></th>\n",
       "      <th></th>\n",
       "      <th></th>\n",
       "      <th></th>\n",
       "      <th></th>\n",
       "      <th></th>\n",
       "      <th></th>\n",
       "      <th></th>\n",
       "    </tr>\n",
       "  </thead>\n",
       "  <tbody>\n",
       "    <tr>\n",
       "      <th>1970-01-06 00:00:00</th>\n",
       "      <td>m_694</td>\n",
       "      <td>25.0</td>\n",
       "      <td>96.0</td>\n",
       "      <td>NaN</td>\n",
       "      <td>NaN</td>\n",
       "      <td>46.14</td>\n",
       "      <td>39.77</td>\n",
       "      <td>5.0</td>\n",
       "    </tr>\n",
       "    <tr>\n",
       "      <th>1970-01-06 00:05:00</th>\n",
       "      <td>m_694</td>\n",
       "      <td>31.0</td>\n",
       "      <td>97.0</td>\n",
       "      <td>NaN</td>\n",
       "      <td>NaN</td>\n",
       "      <td>46.15</td>\n",
       "      <td>39.78</td>\n",
       "      <td>5.0</td>\n",
       "    </tr>\n",
       "    <tr>\n",
       "      <th>1970-01-06 00:10:00</th>\n",
       "      <td>m_694</td>\n",
       "      <td>34.0</td>\n",
       "      <td>94.0</td>\n",
       "      <td>NaN</td>\n",
       "      <td>NaN</td>\n",
       "      <td>46.15</td>\n",
       "      <td>39.78</td>\n",
       "      <td>8.0</td>\n",
       "    </tr>\n",
       "    <tr>\n",
       "      <th>1970-01-06 00:15:00</th>\n",
       "      <td>m_694</td>\n",
       "      <td>31.0</td>\n",
       "      <td>92.0</td>\n",
       "      <td>NaN</td>\n",
       "      <td>NaN</td>\n",
       "      <td>46.16</td>\n",
       "      <td>39.79</td>\n",
       "      <td>4.0</td>\n",
       "    </tr>\n",
       "    <tr>\n",
       "      <th>1970-01-06 00:20:00</th>\n",
       "      <td>m_694</td>\n",
       "      <td>32.0</td>\n",
       "      <td>94.0</td>\n",
       "      <td>NaN</td>\n",
       "      <td>NaN</td>\n",
       "      <td>46.16</td>\n",
       "      <td>39.79</td>\n",
       "      <td>4.0</td>\n",
       "    </tr>\n",
       "    <tr>\n",
       "      <th>...</th>\n",
       "      <td>...</td>\n",
       "      <td>...</td>\n",
       "      <td>...</td>\n",
       "      <td>...</td>\n",
       "      <td>...</td>\n",
       "      <td>...</td>\n",
       "      <td>...</td>\n",
       "      <td>...</td>\n",
       "    </tr>\n",
       "    <tr>\n",
       "      <th>1970-01-08 23:35:00</th>\n",
       "      <td>m_694</td>\n",
       "      <td>86.0</td>\n",
       "      <td>91.0</td>\n",
       "      <td>0.35</td>\n",
       "      <td>0.0</td>\n",
       "      <td>51.46</td>\n",
       "      <td>44.74</td>\n",
       "      <td>4.0</td>\n",
       "    </tr>\n",
       "    <tr>\n",
       "      <th>1970-01-08 23:40:00</th>\n",
       "      <td>m_694</td>\n",
       "      <td>86.0</td>\n",
       "      <td>92.0</td>\n",
       "      <td>0.27</td>\n",
       "      <td>0.0</td>\n",
       "      <td>51.46</td>\n",
       "      <td>44.75</td>\n",
       "      <td>6.0</td>\n",
       "    </tr>\n",
       "    <tr>\n",
       "      <th>1970-01-08 23:45:00</th>\n",
       "      <td>m_694</td>\n",
       "      <td>85.0</td>\n",
       "      <td>92.0</td>\n",
       "      <td>0.45</td>\n",
       "      <td>0.0</td>\n",
       "      <td>51.46</td>\n",
       "      <td>44.75</td>\n",
       "      <td>6.0</td>\n",
       "    </tr>\n",
       "    <tr>\n",
       "      <th>1970-01-08 23:50:00</th>\n",
       "      <td>m_694</td>\n",
       "      <td>86.0</td>\n",
       "      <td>92.0</td>\n",
       "      <td>0.48</td>\n",
       "      <td>0.0</td>\n",
       "      <td>51.47</td>\n",
       "      <td>44.76</td>\n",
       "      <td>5.0</td>\n",
       "    </tr>\n",
       "    <tr>\n",
       "      <th>1970-01-08 23:55:00</th>\n",
       "      <td>m_694</td>\n",
       "      <td>87.0</td>\n",
       "      <td>94.0</td>\n",
       "      <td>0.29</td>\n",
       "      <td>0.0</td>\n",
       "      <td>51.47</td>\n",
       "      <td>44.76</td>\n",
       "      <td>5.0</td>\n",
       "    </tr>\n",
       "  </tbody>\n",
       "</table>\n",
       "<p>864 rows × 8 columns</p>\n",
       "</div>"
      ],
      "text/plain": [
       "                    machine_id   cpu   mem  mem_gps  mkpi  net_in  net_out  \\\n",
       "time_stamp                                                                   \n",
       "1970-01-06 00:00:00      m_694  25.0  96.0      NaN   NaN   46.14    39.77   \n",
       "1970-01-06 00:05:00      m_694  31.0  97.0      NaN   NaN   46.15    39.78   \n",
       "1970-01-06 00:10:00      m_694  34.0  94.0      NaN   NaN   46.15    39.78   \n",
       "1970-01-06 00:15:00      m_694  31.0  92.0      NaN   NaN   46.16    39.79   \n",
       "1970-01-06 00:20:00      m_694  32.0  94.0      NaN   NaN   46.16    39.79   \n",
       "...                        ...   ...   ...      ...   ...     ...      ...   \n",
       "1970-01-08 23:35:00      m_694  86.0  91.0     0.35   0.0   51.46    44.74   \n",
       "1970-01-08 23:40:00      m_694  86.0  92.0     0.27   0.0   51.46    44.75   \n",
       "1970-01-08 23:45:00      m_694  85.0  92.0     0.45   0.0   51.46    44.75   \n",
       "1970-01-08 23:50:00      m_694  86.0  92.0     0.48   0.0   51.47    44.76   \n",
       "1970-01-08 23:55:00      m_694  87.0  94.0     0.29   0.0   51.47    44.76   \n",
       "\n",
       "                     disk_io_percent  \n",
       "time_stamp                            \n",
       "1970-01-06 00:00:00              5.0  \n",
       "1970-01-06 00:05:00              5.0  \n",
       "1970-01-06 00:10:00              8.0  \n",
       "1970-01-06 00:15:00              4.0  \n",
       "1970-01-06 00:20:00              4.0  \n",
       "...                              ...  \n",
       "1970-01-08 23:35:00              4.0  \n",
       "1970-01-08 23:40:00              6.0  \n",
       "1970-01-08 23:45:00              6.0  \n",
       "1970-01-08 23:50:00              5.0  \n",
       "1970-01-08 23:55:00              5.0  \n",
       "\n",
       "[864 rows x 8 columns]"
      ]
     },
     "execution_count": 2,
     "metadata": {},
     "output_type": "execute_result"
    }
   ],
   "source": [
    "# Carregar dados do CPU\n",
    "machine = 'm_694.csv'\n",
    "workload = pd.read_csv(machine, \n",
    "             names = ['machine_id', 'time_stamp', 'cpu', 'mem', 'mem_gps', \n",
    "                      'mkpi', 'net_in', 'net_out', 'disk_io_percent'])\n",
    "workload.time_stamp = pd.to_datetime(workload.time_stamp, unit='s')\n",
    "workload.set_index('time_stamp', inplace=True)\n",
    "workload = workload.resample('5min').interpolate()\n",
    "workload = workload[-12*24*3:] # 5min * 12 * 24 * 3 = 3 days\n",
    "workload"
   ]
  },
  {
   "cell_type": "code",
   "execution_count": 3,
   "id": "8e471018",
   "metadata": {},
   "outputs": [],
   "source": [
    "def convert2matrix(data_arr, look_back):\n",
    "    X, Y =[], []\n",
    "    for i in range(len(data_arr)-look_back):\n",
    "        d=i+look_back\n",
    "        X.append(data_arr[i:d,])\n",
    "        Y.append(data_arr[d,])\n",
    "    return np.array(X), np.array(Y)"
   ]
  },
  {
   "cell_type": "code",
   "execution_count": 4,
   "id": "0dad7f01",
   "metadata": {},
   "outputs": [],
   "source": [
    "#create numpy.ndarray\n",
    "df1 = workload['cpu']\n",
    "df_arr= df1.values\n",
    "df_arr = np.reshape(df_arr, (-1, 1)) #LTSM requires more input features compared to RNN or DNN\n",
    "scaler = MinMaxScaler(feature_range=(0, 1))#LTSM is senstive to the scale of features\n",
    "df_arr = scaler.fit_transform(df_arr)"
   ]
  },
  {
   "cell_type": "code",
   "execution_count": 5,
   "id": "8922537d",
   "metadata": {},
   "outputs": [],
   "source": [
    "train_size = int(len(df1) * 2/3)\n",
    "test_size = len(df_arr) - train_size\n",
    "train, test = df_arr[0:train_size,:], df_arr[train_size:len(df_arr),:]\n",
    "look_back = 12\n",
    "trainX, trainY = convert2matrix(train, look_back)\n",
    "testX, testY = convert2matrix(test, look_back)\n",
    "# reshape input to be [samples, time steps, features]\n",
    "trainX = np.reshape(trainX, (trainX.shape[0], 1, trainX.shape[1]))\n",
    "testX = np.reshape(testX, (testX.shape[0], 1, testX.shape[1]))"
   ]
  },
  {
   "cell_type": "code",
   "execution_count": 6,
   "id": "e951076d",
   "metadata": {},
   "outputs": [],
   "source": [
    "def model_lstm(look_back):\n",
    "    model=Sequential()\n",
    "    model.add(LSTM(15, input_shape=(1, look_back), activation='relu'))\n",
    "    model.add(Dense(1))\n",
    "    model.compile(loss='mse',  optimizer='adam',metrics = ['mse'])\n",
    "    return model"
   ]
  },
  {
   "cell_type": "code",
   "execution_count": 7,
   "id": "7b2f3c6c",
   "metadata": {
    "scrolled": true
   },
   "outputs": [],
   "source": [
    "# disable random weigths\n",
    "np.random.seed(1234)\n",
    "set_seed(1234)\n",
    "\n",
    "model=model_lstm(look_back)\n",
    "history = model.fit(trainX, trainY, epochs=150, batch_size=30, validation_data=(testX, testY), \n",
    "                    verbose=0, shuffle=False)"
   ]
  },
  {
   "cell_type": "code",
   "execution_count": 8,
   "id": "146fa5db",
   "metadata": {},
   "outputs": [],
   "source": [
    "def model_loss(history):\n",
    "    plt.figure(figsize=(8,4))\n",
    "    plt.plot(history.history['loss'], label='Train Loss')\n",
    "    plt.plot(history.history['val_loss'], label='Test Loss')\n",
    "    plt.title('model loss')\n",
    "    plt.ylabel('loss')\n",
    "    plt.xlabel('epochs')\n",
    "    plt.legend(loc='upper right')\n",
    "    plt.show();"
   ]
  },
  {
   "cell_type": "code",
   "execution_count": 9,
   "id": "ba2c7790",
   "metadata": {},
   "outputs": [
    {
     "data": {
      "image/png": "[encoded data removed]",
      "text/plain": [
       "<Figure size 576x288 with 1 Axes>"
      ]
     },
     "metadata": {
      "needs_background": "light"
     },
     "output_type": "display_data"
    }
   ],
   "source": [
    "train_predict = model.predict(trainX)\n",
    "test_predict = model.predict(testX)\n",
    "# invert predictions\n",
    "train_predict = scaler.inverse_transform(train_predict)[:,0]\n",
    "trainY = scaler.inverse_transform(trainY)[:,0]\n",
    "test_predict = scaler.inverse_transform(test_predict)[:,0]\n",
    "testY = scaler.inverse_transform(testY)[:,0]\n",
    "model_loss(history)"
   ]
  },
  {
   "cell_type": "code",
   "execution_count": 10,
   "id": "f9bd16d0",
   "metadata": {
    "scrolled": true
   },
   "outputs": [
    {
     "data": {
      "text/plain": [
       "<AxesSubplot:xlabel='time_stamp'>"
      ]
     },
     "execution_count": 10,
     "metadata": {},
     "output_type": "execute_result"
    },
    {
     "data": {
      "image/png": "[encoded data removed]",
      "text/plain": [
       "<Figure size 576x216 with 1 Axes>"
      ]
     },
     "metadata": {
      "needs_background": "light"
     },
     "output_type": "display_data"
    }
   ],
   "source": [
    "test_results = pd.DataFrame({'Real':testY, 'Predict': test_predict}, index=workload[-len(testY):].index)\n",
    "test_results.plot(figsize=(8,3))"
   ]
  }
 ],
 "metadata": {
  "kernelspec": {
   "display_name": "Python 3",
   "language": "python",
   "name": "python3"
  },
  "language_info": {
   "codemirror_mode": {
    "name": "ipython",
    "version": 3
   },
   "file_extension": ".py",
   "mimetype": "text/x-python",
   "name": "python",
   "nbconvert_exporter": "python",
   "pygments_lexer": "ipython3",
   "version": "3.6.9"
  }
 },
 "nbformat": 4,
 "nbformat_minor": 5
}
