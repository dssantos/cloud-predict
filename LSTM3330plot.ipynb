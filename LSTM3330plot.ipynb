{
 "cells": [
  {
   "cell_type": "markdown",
   "id": "2ca1a92c",
   "metadata": {},
   "source": [
    "### Plotagens do modelo LSTM com o arquivo 3330.csv"
   ]
  },
  {
   "cell_type": "code",
   "execution_count": 1,
   "id": "9e023859",
   "metadata": {},
   "outputs": [],
   "source": [
    "import warnings\n",
    "warnings.filterwarnings('ignore')\n",
    "import numpy as np\n",
    "import pandas as pd\n",
    "import matplotlib.pyplot as plt\n",
    "\n",
    "from tensorflow.random import set_seed\n",
    "from tensorflow.keras.models import Sequential\n",
    "from tensorflow.keras.layers import Dense, LSTM, Dropout\n",
    "from tensorflow.keras.callbacks import EarlyStopping\n",
    "\n",
    "from sklearn.feature_selection import SelectKBest\n",
    "from sklearn.model_selection import GridSearchCV\n",
    "from sklearn.neural_network import MLPRegressor\n",
    "from sklearn.preprocessing import MinMaxScaler\n",
    "from sklearn import datasets, linear_model\n",
    "from sklearn.metrics import mean_squared_error, r2_score, explained_variance_score, max_error, mean_absolute_error"
   ]
  },
  {
   "cell_type": "code",
   "execution_count": 2,
   "id": "263828be",
   "metadata": {},
   "outputs": [
    {
     "data": {
      "text/html": [
       "<div>\n",
       "<style scoped>\n",
       "    .dataframe tbody tr th:only-of-type {\n",
       "        vertical-align: middle;\n",
       "    }\n",
       "\n",
       "    .dataframe tbody tr th {\n",
       "        vertical-align: top;\n",
       "    }\n",
       "\n",
       "    .dataframe thead th {\n",
       "        text-align: right;\n",
       "    }\n",
       "</style>\n",
       "<table border=\"1\" class=\"dataframe\">\n",
       "  <thead>\n",
       "    <tr style=\"text-align: right;\">\n",
       "      <th></th>\n",
       "      <th>machine_id</th>\n",
       "      <th>cpu</th>\n",
       "      <th>mem</th>\n",
       "      <th>mem_gps</th>\n",
       "      <th>mkpi</th>\n",
       "      <th>net_in</th>\n",
       "      <th>net_out</th>\n",
       "      <th>disk_io_percent</th>\n",
       "    </tr>\n",
       "    <tr>\n",
       "      <th>time_stamp</th>\n",
       "      <th></th>\n",
       "      <th></th>\n",
       "      <th></th>\n",
       "      <th></th>\n",
       "      <th></th>\n",
       "      <th></th>\n",
       "      <th></th>\n",
       "      <th></th>\n",
       "    </tr>\n",
       "  </thead>\n",
       "  <tbody>\n",
       "    <tr>\n",
       "      <th>1970-01-06 00:00:00</th>\n",
       "      <td>m_3330</td>\n",
       "      <td>26.0</td>\n",
       "      <td>93.0</td>\n",
       "      <td>NaN</td>\n",
       "      <td>NaN</td>\n",
       "      <td>55.96</td>\n",
       "      <td>48.37</td>\n",
       "      <td>5.0</td>\n",
       "    </tr>\n",
       "    <tr>\n",
       "      <th>1970-01-06 00:05:00</th>\n",
       "      <td>m_3330</td>\n",
       "      <td>27.0</td>\n",
       "      <td>93.0</td>\n",
       "      <td>NaN</td>\n",
       "      <td>NaN</td>\n",
       "      <td>55.96</td>\n",
       "      <td>48.37</td>\n",
       "      <td>4.0</td>\n",
       "    </tr>\n",
       "    <tr>\n",
       "      <th>1970-01-06 00:10:00</th>\n",
       "      <td>m_3330</td>\n",
       "      <td>38.0</td>\n",
       "      <td>95.0</td>\n",
       "      <td>NaN</td>\n",
       "      <td>NaN</td>\n",
       "      <td>55.97</td>\n",
       "      <td>48.38</td>\n",
       "      <td>7.0</td>\n",
       "    </tr>\n",
       "    <tr>\n",
       "      <th>1970-01-06 00:15:00</th>\n",
       "      <td>m_3330</td>\n",
       "      <td>30.0</td>\n",
       "      <td>92.0</td>\n",
       "      <td>NaN</td>\n",
       "      <td>NaN</td>\n",
       "      <td>55.97</td>\n",
       "      <td>48.39</td>\n",
       "      <td>5.0</td>\n",
       "    </tr>\n",
       "    <tr>\n",
       "      <th>1970-01-06 00:20:00</th>\n",
       "      <td>m_3330</td>\n",
       "      <td>33.0</td>\n",
       "      <td>95.0</td>\n",
       "      <td>NaN</td>\n",
       "      <td>NaN</td>\n",
       "      <td>55.98</td>\n",
       "      <td>48.39</td>\n",
       "      <td>6.0</td>\n",
       "    </tr>\n",
       "    <tr>\n",
       "      <th>...</th>\n",
       "      <td>...</td>\n",
       "      <td>...</td>\n",
       "      <td>...</td>\n",
       "      <td>...</td>\n",
       "      <td>...</td>\n",
       "      <td>...</td>\n",
       "      <td>...</td>\n",
       "      <td>...</td>\n",
       "    </tr>\n",
       "    <tr>\n",
       "      <th>1970-01-08 23:35:00</th>\n",
       "      <td>m_3330</td>\n",
       "      <td>21.0</td>\n",
       "      <td>89.0</td>\n",
       "      <td>7.48</td>\n",
       "      <td>1.0</td>\n",
       "      <td>62.62</td>\n",
       "      <td>55.26</td>\n",
       "      <td>5.0</td>\n",
       "    </tr>\n",
       "    <tr>\n",
       "      <th>1970-01-08 23:40:00</th>\n",
       "      <td>m_3330</td>\n",
       "      <td>25.0</td>\n",
       "      <td>90.0</td>\n",
       "      <td>7.40</td>\n",
       "      <td>1.0</td>\n",
       "      <td>62.63</td>\n",
       "      <td>55.26</td>\n",
       "      <td>6.0</td>\n",
       "    </tr>\n",
       "    <tr>\n",
       "      <th>1970-01-08 23:45:00</th>\n",
       "      <td>m_3330</td>\n",
       "      <td>19.0</td>\n",
       "      <td>88.0</td>\n",
       "      <td>6.59</td>\n",
       "      <td>1.0</td>\n",
       "      <td>62.63</td>\n",
       "      <td>55.27</td>\n",
       "      <td>4.0</td>\n",
       "    </tr>\n",
       "    <tr>\n",
       "      <th>1970-01-08 23:50:00</th>\n",
       "      <td>m_3330</td>\n",
       "      <td>19.0</td>\n",
       "      <td>88.0</td>\n",
       "      <td>6.69</td>\n",
       "      <td>1.0</td>\n",
       "      <td>62.64</td>\n",
       "      <td>55.28</td>\n",
       "      <td>4.0</td>\n",
       "    </tr>\n",
       "    <tr>\n",
       "      <th>1970-01-08 23:55:00</th>\n",
       "      <td>m_3330</td>\n",
       "      <td>25.0</td>\n",
       "      <td>92.0</td>\n",
       "      <td>5.17</td>\n",
       "      <td>0.0</td>\n",
       "      <td>62.64</td>\n",
       "      <td>55.28</td>\n",
       "      <td>4.0</td>\n",
       "    </tr>\n",
       "  </tbody>\n",
       "</table>\n",
       "<p>864 rows × 8 columns</p>\n",
       "</div>"
      ],
      "text/plain": [
       "                    machine_id   cpu   mem  mem_gps  mkpi  net_in  net_out  \\\n",
       "time_stamp                                                                   \n",
       "1970-01-06 00:00:00     m_3330  26.0  93.0      NaN   NaN   55.96    48.37   \n",
       "1970-01-06 00:05:00     m_3330  27.0  93.0      NaN   NaN   55.96    48.37   \n",
       "1970-01-06 00:10:00     m_3330  38.0  95.0      NaN   NaN   55.97    48.38   \n",
       "1970-01-06 00:15:00     m_3330  30.0  92.0      NaN   NaN   55.97    48.39   \n",
       "1970-01-06 00:20:00     m_3330  33.0  95.0      NaN   NaN   55.98    48.39   \n",
       "...                        ...   ...   ...      ...   ...     ...      ...   \n",
       "1970-01-08 23:35:00     m_3330  21.0  89.0     7.48   1.0   62.62    55.26   \n",
       "1970-01-08 23:40:00     m_3330  25.0  90.0     7.40   1.0   62.63    55.26   \n",
       "1970-01-08 23:45:00     m_3330  19.0  88.0     6.59   1.0   62.63    55.27   \n",
       "1970-01-08 23:50:00     m_3330  19.0  88.0     6.69   1.0   62.64    55.28   \n",
       "1970-01-08 23:55:00     m_3330  25.0  92.0     5.17   0.0   62.64    55.28   \n",
       "\n",
       "                     disk_io_percent  \n",
       "time_stamp                            \n",
       "1970-01-06 00:00:00              5.0  \n",
       "1970-01-06 00:05:00              4.0  \n",
       "1970-01-06 00:10:00              7.0  \n",
       "1970-01-06 00:15:00              5.0  \n",
       "1970-01-06 00:20:00              6.0  \n",
       "...                              ...  \n",
       "1970-01-08 23:35:00              5.0  \n",
       "1970-01-08 23:40:00              6.0  \n",
       "1970-01-08 23:45:00              4.0  \n",
       "1970-01-08 23:50:00              4.0  \n",
       "1970-01-08 23:55:00              4.0  \n",
       "\n",
       "[864 rows x 8 columns]"
      ]
     },
     "execution_count": 2,
     "metadata": {},
     "output_type": "execute_result"
    }
   ],
   "source": [
    "# Carregar dados do CPU\n",
    "machine = 'm_3330.csv'\n",
    "workload = pd.read_csv(machine, \n",
    "             names = ['machine_id', 'time_stamp', 'cpu', 'mem', 'mem_gps', \n",
    "                      'mkpi', 'net_in', 'net_out', 'disk_io_percent'])\n",
    "workload.time_stamp = pd.to_datetime(workload.time_stamp, unit='s')\n",
    "workload.set_index('time_stamp', inplace=True)\n",
    "workload = workload.resample('5min').interpolate()\n",
    "workload = workload[-12*24*3:] # 5min * 12 * 24 * 3 = 3 days\n",
    "workload"
   ]
  },
  {
   "cell_type": "code",
   "execution_count": 3,
   "id": "8e471018",
   "metadata": {},
   "outputs": [],
   "source": [
    "def convert2matrix(data_arr, look_back):\n",
    "    X, Y =[], []\n",
    "    for i in range(len(data_arr)-look_back):\n",
    "        d=i+look_back\n",
    "        X.append(data_arr[i:d,])\n",
    "        Y.append(data_arr[d,])\n",
    "    return np.array(X), np.array(Y)"
   ]
  },
  {
   "cell_type": "code",
   "execution_count": 4,
   "id": "0dad7f01",
   "metadata": {},
   "outputs": [],
   "source": [
    "#create numpy.ndarray\n",
    "df1 = workload['cpu']\n",
    "df_arr= df1.values\n",
    "df_arr = np.reshape(df_arr, (-1, 1)) #LTSM requires more input features compared to RNN or DNN\n",
    "scaler = MinMaxScaler(feature_range=(0, 1))#LTSM is senstive to the scale of features\n",
    "df_arr = scaler.fit_transform(df_arr)"
   ]
  },
  {
   "cell_type": "code",
   "execution_count": 5,
   "id": "8922537d",
   "metadata": {},
   "outputs": [],
   "source": [
    "train_size = int(len(df1) * 2/3)\n",
    "test_size = len(df_arr) - train_size\n",
    "train, test = df_arr[0:train_size,:], df_arr[train_size:len(df_arr),:]\n",
    "look_back = 12\n",
    "trainX, trainY = convert2matrix(train, look_back)\n",
    "testX, testY = convert2matrix(test, look_back)\n",
    "# reshape input to be [samples, time steps, features]\n",
    "trainX = np.reshape(trainX, (trainX.shape[0], 1, trainX.shape[1]))\n",
    "testX = np.reshape(testX, (testX.shape[0], 1, testX.shape[1]))"
   ]
  },
  {
   "cell_type": "code",
   "execution_count": 6,
   "id": "e951076d",
   "metadata": {},
   "outputs": [],
   "source": [
    "def model_lstm(look_back):\n",
    "    model=Sequential()\n",
    "    model.add(LSTM(12, input_shape=(1, look_back), activation='relu'))\n",
    "    model.add(Dense(1))\n",
    "    model.compile(loss='mse',  optimizer='adam',metrics = ['mse'])\n",
    "    return model"
   ]
  },
  {
   "cell_type": "code",
   "execution_count": 7,
   "id": "7b2f3c6c",
   "metadata": {
    "scrolled": true
   },
   "outputs": [],
   "source": [
    "# disable random weigths\n",
    "np.random.seed(1234)\n",
    "set_seed(1234)\n",
    "\n",
    "model=model_lstm(look_back)\n",
    "history = model.fit(trainX, trainY, epochs=300, batch_size=60, validation_data=(testX, testY), \n",
    "                    verbose=0, shuffle=False)"
   ]
  },
  {
   "cell_type": "code",
   "execution_count": 8,
   "id": "146fa5db",
   "metadata": {},
   "outputs": [],
   "source": [
    "def model_loss(history):\n",
    "    plt.figure(figsize=(8,4))\n",
    "    plt.plot(history.history['loss'], label='Train Loss')\n",
    "    plt.plot(history.history['val_loss'], label='Test Loss')\n",
    "    plt.title('model loss')\n",
    "    plt.ylabel('loss')\n",
    "    plt.xlabel('epochs')\n",
    "    plt.legend(loc='upper right')\n",
    "    plt.show();"
   ]
  },
  {
   "cell_type": "code",
   "execution_count": 9,
   "id": "ba2c7790",
   "metadata": {},
   "outputs": [
    {
     "data": {
      "image/png": "[encoded data removed]",
      "text/plain": [
       "<Figure size 576x288 with 1 Axes>"
      ]
     },
     "metadata": {
      "needs_background": "light"
     },
     "output_type": "display_data"
    }
   ],
   "source": [
    "train_predict = model.predict(trainX)\n",
    "test_predict = model.predict(testX)\n",
    "# invert predictions\n",
    "train_predict = scaler.inverse_transform(train_predict)[:,0]\n",
    "trainY = scaler.inverse_transform(trainY)[:,0]\n",
    "test_predict = scaler.inverse_transform(test_predict)[:,0]\n",
    "testY = scaler.inverse_transform(testY)[:,0]\n",
    "model_loss(history)"
   ]
  },
  {
   "cell_type": "code",
   "execution_count": 10,
   "id": "f9bd16d0",
   "metadata": {
    "scrolled": true
   },
   "outputs": [
    {
     "data": {
      "text/plain": [
       "<AxesSubplot:xlabel='time_stamp'>"
      ]
     },
     "execution_count": 10,
     "metadata": {},
     "output_type": "execute_result"
    },
    {
     "data": {
      "image/png": "[encoded data removed]",
      "text/plain": [
       "<Figure size 576x216 with 1 Axes>"
      ]
     },
     "metadata": {
      "needs_background": "light"
     },
     "output_type": "display_data"
    }
   ],
   "source": [
    "test_results = pd.DataFrame({'Real':testY, 'Predict': test_predict}, index=workload[-len(testY):].index)\n",
    "test_results.plot(figsize=(8,3))"
   ]
  }
 ],
 "metadata": {
  "kernelspec": {
   "display_name": "Python 3",
   "language": "python",
   "name": "python3"
  },
  "language_info": {
   "codemirror_mode": {
    "name": "ipython",
    "version": 3
   },
   "file_extension": ".py",
   "mimetype": "text/x-python",
   "name": "python",
   "nbconvert_exporter": "python",
   "pygments_lexer": "ipython3",
   "version": "3.6.9"
  }
 },
 "nbformat": 4,
 "nbformat_minor": 5
}
