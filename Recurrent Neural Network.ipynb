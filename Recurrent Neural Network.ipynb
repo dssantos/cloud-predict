{
 "cells": [
  {
   "cell_type": "markdown",
   "id": "41dd62d8",
   "metadata": {},
   "source": [
    "### Importar bibliotecas"
   ]
  },
  {
   "cell_type": "code",
   "execution_count": 1,
   "id": "150754f6",
   "metadata": {},
   "outputs": [],
   "source": [
    "import os\n",
    "\n",
    "import numpy as np\n",
    "import pandas as pd\n",
    "from sklearn.preprocessing import MinMaxScaler\n",
    "from keras.models import Sequential, load_model\n",
    "from keras.layers import Dense, Dropout\n",
    "from keras.layers import LSTM\n",
    "import matplotlib.pyplot as plt\n",
    "from statsmodels.tools.eval_measures import mse"
   ]
  },
  {
   "cell_type": "markdown",
   "id": "0659b114",
   "metadata": {},
   "source": [
    "### Carregar dados"
   ]
  },
  {
   "cell_type": "code",
   "execution_count": 2,
   "id": "ca7f06ae",
   "metadata": {},
   "outputs": [
    {
     "data": {
      "text/html": [
       "<div>\n",
       "<style scoped>\n",
       "    .dataframe tbody tr th:only-of-type {\n",
       "        vertical-align: middle;\n",
       "    }\n",
       "\n",
       "    .dataframe tbody tr th {\n",
       "        vertical-align: top;\n",
       "    }\n",
       "\n",
       "    .dataframe thead th {\n",
       "        text-align: right;\n",
       "    }\n",
       "</style>\n",
       "<table border=\"1\" class=\"dataframe\">\n",
       "  <thead>\n",
       "    <tr style=\"text-align: right;\">\n",
       "      <th></th>\n",
       "      <th>machine_id</th>\n",
       "      <th>cpu</th>\n",
       "      <th>mem</th>\n",
       "      <th>mem_gps</th>\n",
       "      <th>mkpi</th>\n",
       "      <th>net_in</th>\n",
       "      <th>net_out</th>\n",
       "      <th>disk_io_percent</th>\n",
       "    </tr>\n",
       "    <tr>\n",
       "      <th>time_stamp</th>\n",
       "      <th></th>\n",
       "      <th></th>\n",
       "      <th></th>\n",
       "      <th></th>\n",
       "      <th></th>\n",
       "      <th></th>\n",
       "      <th></th>\n",
       "      <th></th>\n",
       "    </tr>\n",
       "  </thead>\n",
       "  <tbody>\n",
       "    <tr>\n",
       "      <th>1970-01-01 00:00:00</th>\n",
       "      <td>m_3330</td>\n",
       "      <td>17.0</td>\n",
       "      <td>92.0</td>\n",
       "      <td>NaN</td>\n",
       "      <td>NaN</td>\n",
       "      <td>45.21</td>\n",
       "      <td>38.10</td>\n",
       "      <td>3.0</td>\n",
       "    </tr>\n",
       "    <tr>\n",
       "      <th>1970-01-01 00:01:00</th>\n",
       "      <td>m_3330</td>\n",
       "      <td>24.0</td>\n",
       "      <td>92.0</td>\n",
       "      <td>NaN</td>\n",
       "      <td>NaN</td>\n",
       "      <td>45.21</td>\n",
       "      <td>38.10</td>\n",
       "      <td>4.0</td>\n",
       "    </tr>\n",
       "    <tr>\n",
       "      <th>1970-01-01 00:02:00</th>\n",
       "      <td>m_3330</td>\n",
       "      <td>16.0</td>\n",
       "      <td>91.0</td>\n",
       "      <td>NaN</td>\n",
       "      <td>NaN</td>\n",
       "      <td>45.21</td>\n",
       "      <td>38.10</td>\n",
       "      <td>4.0</td>\n",
       "    </tr>\n",
       "    <tr>\n",
       "      <th>1970-01-01 00:03:00</th>\n",
       "      <td>m_3330</td>\n",
       "      <td>16.0</td>\n",
       "      <td>92.0</td>\n",
       "      <td>NaN</td>\n",
       "      <td>NaN</td>\n",
       "      <td>45.22</td>\n",
       "      <td>38.10</td>\n",
       "      <td>4.0</td>\n",
       "    </tr>\n",
       "    <tr>\n",
       "      <th>1970-01-01 00:04:00</th>\n",
       "      <td>m_3330</td>\n",
       "      <td>16.0</td>\n",
       "      <td>92.0</td>\n",
       "      <td>NaN</td>\n",
       "      <td>NaN</td>\n",
       "      <td>45.22</td>\n",
       "      <td>38.10</td>\n",
       "      <td>4.0</td>\n",
       "    </tr>\n",
       "    <tr>\n",
       "      <th>...</th>\n",
       "      <td>...</td>\n",
       "      <td>...</td>\n",
       "      <td>...</td>\n",
       "      <td>...</td>\n",
       "      <td>...</td>\n",
       "      <td>...</td>\n",
       "      <td>...</td>\n",
       "      <td>...</td>\n",
       "    </tr>\n",
       "    <tr>\n",
       "      <th>1970-01-08 23:55:00</th>\n",
       "      <td>m_3330</td>\n",
       "      <td>25.0</td>\n",
       "      <td>92.0</td>\n",
       "      <td>5.17</td>\n",
       "      <td>0.0</td>\n",
       "      <td>62.64</td>\n",
       "      <td>55.28</td>\n",
       "      <td>4.0</td>\n",
       "    </tr>\n",
       "    <tr>\n",
       "      <th>1970-01-08 23:56:00</th>\n",
       "      <td>m_3330</td>\n",
       "      <td>21.0</td>\n",
       "      <td>90.0</td>\n",
       "      <td>7.04</td>\n",
       "      <td>1.0</td>\n",
       "      <td>62.64</td>\n",
       "      <td>55.28</td>\n",
       "      <td>4.0</td>\n",
       "    </tr>\n",
       "    <tr>\n",
       "      <th>1970-01-08 23:57:00</th>\n",
       "      <td>m_3330</td>\n",
       "      <td>26.0</td>\n",
       "      <td>90.0</td>\n",
       "      <td>4.41</td>\n",
       "      <td>0.0</td>\n",
       "      <td>62.65</td>\n",
       "      <td>55.28</td>\n",
       "      <td>4.0</td>\n",
       "    </tr>\n",
       "    <tr>\n",
       "      <th>1970-01-08 23:58:00</th>\n",
       "      <td>m_3330</td>\n",
       "      <td>23.0</td>\n",
       "      <td>90.0</td>\n",
       "      <td>5.47</td>\n",
       "      <td>0.0</td>\n",
       "      <td>62.65</td>\n",
       "      <td>55.29</td>\n",
       "      <td>4.0</td>\n",
       "    </tr>\n",
       "    <tr>\n",
       "      <th>1970-01-08 23:59:00</th>\n",
       "      <td>m_3330</td>\n",
       "      <td>21.0</td>\n",
       "      <td>90.0</td>\n",
       "      <td>5.93</td>\n",
       "      <td>0.0</td>\n",
       "      <td>62.65</td>\n",
       "      <td>55.29</td>\n",
       "      <td>7.0</td>\n",
       "    </tr>\n",
       "  </tbody>\n",
       "</table>\n",
       "<p>11520 rows × 8 columns</p>\n",
       "</div>"
      ],
      "text/plain": [
       "                    machine_id   cpu   mem  mem_gps  mkpi  net_in  net_out  \\\n",
       "time_stamp                                                                   \n",
       "1970-01-01 00:00:00     m_3330  17.0  92.0      NaN   NaN   45.21    38.10   \n",
       "1970-01-01 00:01:00     m_3330  24.0  92.0      NaN   NaN   45.21    38.10   \n",
       "1970-01-01 00:02:00     m_3330  16.0  91.0      NaN   NaN   45.21    38.10   \n",
       "1970-01-01 00:03:00     m_3330  16.0  92.0      NaN   NaN   45.22    38.10   \n",
       "1970-01-01 00:04:00     m_3330  16.0  92.0      NaN   NaN   45.22    38.10   \n",
       "...                        ...   ...   ...      ...   ...     ...      ...   \n",
       "1970-01-08 23:55:00     m_3330  25.0  92.0     5.17   0.0   62.64    55.28   \n",
       "1970-01-08 23:56:00     m_3330  21.0  90.0     7.04   1.0   62.64    55.28   \n",
       "1970-01-08 23:57:00     m_3330  26.0  90.0     4.41   0.0   62.65    55.28   \n",
       "1970-01-08 23:58:00     m_3330  23.0  90.0     5.47   0.0   62.65    55.29   \n",
       "1970-01-08 23:59:00     m_3330  21.0  90.0     5.93   0.0   62.65    55.29   \n",
       "\n",
       "                     disk_io_percent  \n",
       "time_stamp                            \n",
       "1970-01-01 00:00:00              3.0  \n",
       "1970-01-01 00:01:00              4.0  \n",
       "1970-01-01 00:02:00              4.0  \n",
       "1970-01-01 00:03:00              4.0  \n",
       "1970-01-01 00:04:00              4.0  \n",
       "...                              ...  \n",
       "1970-01-08 23:55:00              4.0  \n",
       "1970-01-08 23:56:00              4.0  \n",
       "1970-01-08 23:57:00              4.0  \n",
       "1970-01-08 23:58:00              4.0  \n",
       "1970-01-08 23:59:00              7.0  \n",
       "\n",
       "[11520 rows x 8 columns]"
      ]
     },
     "execution_count": 2,
     "metadata": {},
     "output_type": "execute_result"
    }
   ],
   "source": [
    "# Carregar dados do CPU\n",
    "workload = pd.read_csv('m_3330.csv', \n",
    "             names = ['machine_id', 'time_stamp', 'cpu', 'mem', 'mem_gps', \n",
    "                      'mkpi', 'net_in', 'net_out', 'disk_io_percent'])\n",
    "workload.time_stamp = pd.to_datetime(workload.time_stamp, unit='s')\n",
    "workload.set_index('time_stamp', inplace=True)\n",
    "workload = workload.resample('1min').interpolate()\n",
    "workload"
   ]
  },
  {
   "cell_type": "markdown",
   "id": "26c0898c",
   "metadata": {},
   "source": [
    "### Separar treino e teste"
   ]
  },
  {
   "cell_type": "code",
   "execution_count": 3,
   "id": "ab98ff8a",
   "metadata": {},
   "outputs": [],
   "source": [
    "# Separar conjunto de treino e de teste dos dados de CPU\n",
    "test_len = len(workload)//3\n",
    "train_set = workload.cpu[:-test_len+90]\n",
    "test_set = workload.cpu[-test_len:]"
   ]
  },
  {
   "cell_type": "markdown",
   "id": "bec84b9e",
   "metadata": {},
   "source": [
    "### Rede Neural"
   ]
  },
  {
   "cell_type": "code",
   "execution_count": 4,
   "id": "bd46288e",
   "metadata": {
    "scrolled": false
   },
   "outputs": [],
   "source": [
    "# Implementação e salvamento da rede neural\n",
    "reshaped_train_set = np.reshape(workload.cpu[:-test_len].values, (-1, 1)) # carrega os dados de CPU em 2D\n",
    "normalizer = MinMaxScaler(feature_range = (0,1)) # normaliza os valores entre 0 e 1\n",
    "normalized_train_set = normalizer.fit_transform(reshaped_train_set)\n",
    "\n",
    "previsors = []\n",
    "expected_values = []\n",
    "\n",
    "for i in range(90,len(reshaped_train_set)):\n",
    "    previsors.append(normalized_train_set[i-90:i,0]) # guarda listas de 90 valores (Ex: posições 0 a 89)\n",
    "    expected_values.append(normalized_train_set[i,0])# guarda o valor seguinte da lista para a rede prever (Ex: posição 90)\n",
    "    \n",
    "epoch = 100\n",
    "saved_model = f'saved_models/rnn{epoch}.keras'\n",
    "if not os.path.isfile(saved_model):\n",
    "    previsors, expected_values = np.array(previsors), np.array(expected_values)\n",
    "    previsors = np.reshape(previsors,(previsors.shape[0], previsors.shape[1],1)) # [[previsors, expected_values]]  Novo shape: (train_len-90, 90, 1)\n",
    "\n",
    "    regressor = Sequential()\n",
    "    regressor.add(LSTM(units = 100,\n",
    "                       return_sequences = True,\n",
    "                       input_shape = (previsors.shape[1],1)))\n",
    "    regressor.add(Dropout(0.3))\n",
    "    regressor.add(LSTM(units = 50,\n",
    "                       return_sequences = True,))\n",
    "    regressor.add(Dropout(0.3))\n",
    "    regressor.add(LSTM(units = 50))\n",
    "    regressor.add(Dropout(0.3))\n",
    "    regressor.add(Dense(units = 1,\n",
    "                        activation = 'linear'))\n",
    "    regressor.compile(optimizer = 'rmsprop',\n",
    "                      loss = 'mean_squared_error',\n",
    "                      metrics = ['mean_absolute_error'])\n",
    "    regressor.fit(previsors,\n",
    "                  expected_values,\n",
    "                  epochs = epoch,\n",
    "                  batch_size = 32)\n",
    "\n",
    "    # Save a trained model to file\n",
    "    regressor.save(saved_model)\n",
    "    print(f\"Model saved in '{saved_model}' \")\n",
    "else:\n",
    "    regressor = load_model(saved_model)"
   ]
  },
  {
   "cell_type": "code",
   "execution_count": 5,
   "id": "bcee9d85",
   "metadata": {},
   "outputs": [],
   "source": [
    "# Carga do modelo e previsão\n",
    "inputs = workload.cpu[len(workload.cpu) - len(test_set) - 90:].values\n",
    "inputs = inputs.reshape(-1,1)\n",
    "inputs = normalizer.transform(inputs)\n",
    "\n",
    "predict = []\n",
    "for j in range(90,len(test_set)):\n",
    "    predict.append(inputs[j-90:j, 0])\n",
    "predict = np.array(predict)\n",
    "predict = np.reshape(predict,\n",
    "                     (predict.shape[0],\n",
    "                      predict.shape[1],\n",
    "                      1))\n",
    "predict = regressor.predict(predict)\n",
    "predict = normalizer.inverse_transform(predict)"
   ]
  },
  {
   "cell_type": "markdown",
   "id": "feb3518a",
   "metadata": {},
   "source": [
    "### Compara previsão com teste"
   ]
  },
  {
   "cell_type": "code",
   "execution_count": 6,
   "id": "00819948",
   "metadata": {},
   "outputs": [
    {
     "data": {
      "image/png": "[encoded data removed]",
      "text/plain": [
       "<Figure size 1296x288 with 1 Axes>"
      ]
     },
     "metadata": {
      "needs_background": "light"
     },
     "output_type": "display_data"
    }
   ],
   "source": [
    "# Gráfico da previsão x teste\n",
    "result = workload[-test_len+90:-90].copy()\n",
    "result['predict'] = predict[90:]\n",
    "\n",
    "plt.figure(figsize=(18,4))\n",
    "plt.plot(train_set, label = 'Treino')\n",
    "plt.plot(result['cpu'], label = 'Teste')\n",
    "plt.plot(result['predict'], label = 'Previsão')\n",
    "plt.xlabel('tempo')\n",
    "plt.ylabel('% cpu')\n",
    "plt.legend()\n",
    "plt.show()"
   ]
  },
  {
   "cell_type": "markdown",
   "id": "935a42bf",
   "metadata": {},
   "source": [
    "### Validação do modelo\n",
    "Na validação do modelo foi utilizada a técnica do erro quadrático médio, com o método 'mse' da biblioteca statsmodels.\n",
    "Este método recebe como parâmetro o conjunto de teste e a previsão gerada pelo modelo. O resultado apresentado significa a taxa de erro, quanto menor melhor."
   ]
  },
  {
   "cell_type": "code",
   "execution_count": 7,
   "id": "6c739948",
   "metadata": {},
   "outputs": [
    {
     "data": {
      "text/plain": [
       "36.100911217695085"
      ]
     },
     "execution_count": 7,
     "metadata": {},
     "output_type": "execute_result"
    }
   ],
   "source": [
    "mse(result['cpu'], result['predict'])"
   ]
  }
 ],
 "metadata": {
  "kernelspec": {
   "display_name": "Python 3",
   "language": "python",
   "name": "python3"
  },
  "language_info": {
   "codemirror_mode": {
    "name": "ipython",
    "version": 3
   },
   "file_extension": ".py",
   "mimetype": "text/x-python",
   "name": "python",
   "nbconvert_exporter": "python",
   "pygments_lexer": "ipython3",
   "version": "3.8.0"
  },
  "varInspector": {
   "cols": {
    "lenName": 16,
    "lenType": 16,
    "lenVar": 40
   },
   "kernels_config": {
    "python": {
     "delete_cmd_postfix": "",
     "delete_cmd_prefix": "del ",
     "library": "var_list.py",
     "varRefreshCmd": "print(var_dic_list())"
    },
    "r": {
     "delete_cmd_postfix": ") ",
     "delete_cmd_prefix": "rm(",
     "library": "var_list.r",
     "varRefreshCmd": "cat(var_dic_list()) "
    }
   },
   "types_to_exclude": [
    "module",
    "function",
    "builtin_function_or_method",
    "instance",
    "_Feature"
   ],
   "window_display": false
  }
 },
 "nbformat": 4,
 "nbformat_minor": 5
}
