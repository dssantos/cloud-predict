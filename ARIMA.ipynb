{
 "cells": [
  {
   "cell_type": "markdown",
   "id": "12a0a800",
   "metadata": {},
   "source": [
    "### Método ARIMA"
   ]
  },
  {
   "cell_type": "code",
   "execution_count": 1,
   "id": "77b32b80",
   "metadata": {},
   "outputs": [],
   "source": [
    "# metodo ARIMA"
   ]
  },
  {
   "cell_type": "markdown",
   "id": "ae170d97",
   "metadata": {},
   "source": [
    "### Propriedades do modelo"
   ]
  },
  {
   "cell_type": "code",
   "execution_count": 2,
   "id": "f066b7ac",
   "metadata": {},
   "outputs": [],
   "source": [
    "# propriedades erro, etc"
   ]
  },
  {
   "cell_type": "markdown",
   "id": "066f9f2e",
   "metadata": {},
   "source": [
    "### Comparar previsão x teste"
   ]
  },
  {
   "cell_type": "code",
   "execution_count": 3,
   "id": "9c1e4cfa",
   "metadata": {},
   "outputs": [],
   "source": [
    "# gráfico com previsão e teste"
   ]
  },
  {
   "cell_type": "markdown",
   "id": "499a0342",
   "metadata": {},
   "source": [
    "### Valores previsto"
   ]
  },
  {
   "cell_type": "code",
   "execution_count": 6,
   "id": "932a5c24",
   "metadata": {},
   "outputs": [],
   "source": [
    "# Próximo passo"
   ]
  },
  {
   "cell_type": "code",
   "execution_count": 5,
   "id": "3d860a4c",
   "metadata": {},
   "outputs": [],
   "source": [
    "# Conjunto de passos futuros"
   ]
  }
 ],
 "metadata": {
  "kernelspec": {
   "display_name": "Python 3",
   "language": "python",
   "name": "python3"
  },
  "language_info": {
   "codemirror_mode": {
    "name": "ipython",
    "version": 3
   },
   "file_extension": ".py",
   "mimetype": "text/x-python",
   "name": "python",
   "nbconvert_exporter": "python",
   "pygments_lexer": "ipython3",
   "version": "3.8.0"
  },
  "varInspector": {
   "cols": {
    "lenName": 16,
    "lenType": 16,
    "lenVar": 40
   },
   "kernels_config": {
    "python": {
     "delete_cmd_postfix": "",
     "delete_cmd_prefix": "del ",
     "library": "var_list.py",
     "varRefreshCmd": "print(var_dic_list())"
    },
    "r": {
     "delete_cmd_postfix": ") ",
     "delete_cmd_prefix": "rm(",
     "library": "var_list.r",
     "varRefreshCmd": "cat(var_dic_list()) "
    }
   },
   "types_to_exclude": [
    "module",
    "function",
    "builtin_function_or_method",
    "instance",
    "_Feature"
   ],
   "window_display": false
  }
 },
 "nbformat": 4,
 "nbformat_minor": 5
}
