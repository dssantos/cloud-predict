{
 "cells": [
  {
   "cell_type": "markdown",
   "id": "460c9715",
   "metadata": {},
   "source": [
    "### Importar bibliotecas"
   ]
  },
  {
   "cell_type": "code",
   "execution_count": 1,
   "id": "32d16810",
   "metadata": {},
   "outputs": [],
   "source": [
    "import warnings\n",
    "warnings.filterwarnings('ignore')\n",
    "import os\n",
    "\n",
    "import pandas as pd\n",
    "from statsmodels.tsa.arima.model import ARIMA\n",
    "from matplotlib import pyplot as plt\n",
    "from statsmodels.tools.eval_measures import mse\n",
    "from statsmodels.tsa.arima_model import ARIMAResults"
   ]
  },
  {
   "cell_type": "markdown",
   "id": "1550ebf8",
   "metadata": {},
   "source": [
    "### Carregar dados"
   ]
  },
  {
   "cell_type": "code",
   "execution_count": 2,
   "id": "77b32b80",
   "metadata": {},
   "outputs": [
    {
     "data": {
      "text/html": [
       "<div>\n",
       "<style scoped>\n",
       "    .dataframe tbody tr th:only-of-type {\n",
       "        vertical-align: middle;\n",
       "    }\n",
       "\n",
       "    .dataframe tbody tr th {\n",
       "        vertical-align: top;\n",
       "    }\n",
       "\n",
       "    .dataframe thead th {\n",
       "        text-align: right;\n",
       "    }\n",
       "</style>\n",
       "<table border=\"1\" class=\"dataframe\">\n",
       "  <thead>\n",
       "    <tr style=\"text-align: right;\">\n",
       "      <th></th>\n",
       "      <th>machine_id</th>\n",
       "      <th>cpu</th>\n",
       "      <th>mem</th>\n",
       "      <th>mem_gps</th>\n",
       "      <th>mkpi</th>\n",
       "      <th>net_in</th>\n",
       "      <th>net_out</th>\n",
       "      <th>disk_io_percent</th>\n",
       "    </tr>\n",
       "    <tr>\n",
       "      <th>time_stamp</th>\n",
       "      <th></th>\n",
       "      <th></th>\n",
       "      <th></th>\n",
       "      <th></th>\n",
       "      <th></th>\n",
       "      <th></th>\n",
       "      <th></th>\n",
       "      <th></th>\n",
       "    </tr>\n",
       "  </thead>\n",
       "  <tbody>\n",
       "    <tr>\n",
       "      <th>1970-01-01 00:00:00</th>\n",
       "      <td>m_3330</td>\n",
       "      <td>17.0</td>\n",
       "      <td>92.0</td>\n",
       "      <td>NaN</td>\n",
       "      <td>NaN</td>\n",
       "      <td>45.21</td>\n",
       "      <td>38.10</td>\n",
       "      <td>3.0</td>\n",
       "    </tr>\n",
       "    <tr>\n",
       "      <th>1970-01-01 00:01:00</th>\n",
       "      <td>m_3330</td>\n",
       "      <td>24.0</td>\n",
       "      <td>92.0</td>\n",
       "      <td>NaN</td>\n",
       "      <td>NaN</td>\n",
       "      <td>45.21</td>\n",
       "      <td>38.10</td>\n",
       "      <td>4.0</td>\n",
       "    </tr>\n",
       "    <tr>\n",
       "      <th>1970-01-01 00:02:00</th>\n",
       "      <td>m_3330</td>\n",
       "      <td>16.0</td>\n",
       "      <td>91.0</td>\n",
       "      <td>NaN</td>\n",
       "      <td>NaN</td>\n",
       "      <td>45.21</td>\n",
       "      <td>38.10</td>\n",
       "      <td>4.0</td>\n",
       "    </tr>\n",
       "    <tr>\n",
       "      <th>1970-01-01 00:03:00</th>\n",
       "      <td>m_3330</td>\n",
       "      <td>16.0</td>\n",
       "      <td>92.0</td>\n",
       "      <td>NaN</td>\n",
       "      <td>NaN</td>\n",
       "      <td>45.22</td>\n",
       "      <td>38.10</td>\n",
       "      <td>4.0</td>\n",
       "    </tr>\n",
       "    <tr>\n",
       "      <th>1970-01-01 00:04:00</th>\n",
       "      <td>m_3330</td>\n",
       "      <td>16.0</td>\n",
       "      <td>92.0</td>\n",
       "      <td>NaN</td>\n",
       "      <td>NaN</td>\n",
       "      <td>45.22</td>\n",
       "      <td>38.10</td>\n",
       "      <td>4.0</td>\n",
       "    </tr>\n",
       "    <tr>\n",
       "      <th>...</th>\n",
       "      <td>...</td>\n",
       "      <td>...</td>\n",
       "      <td>...</td>\n",
       "      <td>...</td>\n",
       "      <td>...</td>\n",
       "      <td>...</td>\n",
       "      <td>...</td>\n",
       "      <td>...</td>\n",
       "    </tr>\n",
       "    <tr>\n",
       "      <th>1970-01-08 23:55:00</th>\n",
       "      <td>m_3330</td>\n",
       "      <td>25.0</td>\n",
       "      <td>92.0</td>\n",
       "      <td>5.17</td>\n",
       "      <td>0.0</td>\n",
       "      <td>62.64</td>\n",
       "      <td>55.28</td>\n",
       "      <td>4.0</td>\n",
       "    </tr>\n",
       "    <tr>\n",
       "      <th>1970-01-08 23:56:00</th>\n",
       "      <td>m_3330</td>\n",
       "      <td>21.0</td>\n",
       "      <td>90.0</td>\n",
       "      <td>7.04</td>\n",
       "      <td>1.0</td>\n",
       "      <td>62.64</td>\n",
       "      <td>55.28</td>\n",
       "      <td>4.0</td>\n",
       "    </tr>\n",
       "    <tr>\n",
       "      <th>1970-01-08 23:57:00</th>\n",
       "      <td>m_3330</td>\n",
       "      <td>26.0</td>\n",
       "      <td>90.0</td>\n",
       "      <td>4.41</td>\n",
       "      <td>0.0</td>\n",
       "      <td>62.65</td>\n",
       "      <td>55.28</td>\n",
       "      <td>4.0</td>\n",
       "    </tr>\n",
       "    <tr>\n",
       "      <th>1970-01-08 23:58:00</th>\n",
       "      <td>m_3330</td>\n",
       "      <td>23.0</td>\n",
       "      <td>90.0</td>\n",
       "      <td>5.47</td>\n",
       "      <td>0.0</td>\n",
       "      <td>62.65</td>\n",
       "      <td>55.29</td>\n",
       "      <td>4.0</td>\n",
       "    </tr>\n",
       "    <tr>\n",
       "      <th>1970-01-08 23:59:00</th>\n",
       "      <td>m_3330</td>\n",
       "      <td>21.0</td>\n",
       "      <td>90.0</td>\n",
       "      <td>5.93</td>\n",
       "      <td>0.0</td>\n",
       "      <td>62.65</td>\n",
       "      <td>55.29</td>\n",
       "      <td>7.0</td>\n",
       "    </tr>\n",
       "  </tbody>\n",
       "</table>\n",
       "<p>11520 rows × 8 columns</p>\n",
       "</div>"
      ],
      "text/plain": [
       "                    machine_id   cpu   mem  mem_gps  mkpi  net_in  net_out  \\\n",
       "time_stamp                                                                   \n",
       "1970-01-01 00:00:00     m_3330  17.0  92.0      NaN   NaN   45.21    38.10   \n",
       "1970-01-01 00:01:00     m_3330  24.0  92.0      NaN   NaN   45.21    38.10   \n",
       "1970-01-01 00:02:00     m_3330  16.0  91.0      NaN   NaN   45.21    38.10   \n",
       "1970-01-01 00:03:00     m_3330  16.0  92.0      NaN   NaN   45.22    38.10   \n",
       "1970-01-01 00:04:00     m_3330  16.0  92.0      NaN   NaN   45.22    38.10   \n",
       "...                        ...   ...   ...      ...   ...     ...      ...   \n",
       "1970-01-08 23:55:00     m_3330  25.0  92.0     5.17   0.0   62.64    55.28   \n",
       "1970-01-08 23:56:00     m_3330  21.0  90.0     7.04   1.0   62.64    55.28   \n",
       "1970-01-08 23:57:00     m_3330  26.0  90.0     4.41   0.0   62.65    55.28   \n",
       "1970-01-08 23:58:00     m_3330  23.0  90.0     5.47   0.0   62.65    55.29   \n",
       "1970-01-08 23:59:00     m_3330  21.0  90.0     5.93   0.0   62.65    55.29   \n",
       "\n",
       "                     disk_io_percent  \n",
       "time_stamp                            \n",
       "1970-01-01 00:00:00              3.0  \n",
       "1970-01-01 00:01:00              4.0  \n",
       "1970-01-01 00:02:00              4.0  \n",
       "1970-01-01 00:03:00              4.0  \n",
       "1970-01-01 00:04:00              4.0  \n",
       "...                              ...  \n",
       "1970-01-08 23:55:00              4.0  \n",
       "1970-01-08 23:56:00              4.0  \n",
       "1970-01-08 23:57:00              4.0  \n",
       "1970-01-08 23:58:00              4.0  \n",
       "1970-01-08 23:59:00              7.0  \n",
       "\n",
       "[11520 rows x 8 columns]"
      ]
     },
     "execution_count": 2,
     "metadata": {},
     "output_type": "execute_result"
    }
   ],
   "source": [
    "# Carregar dados do CPU\n",
    "workload = pd.read_csv('m_3330.csv', \n",
    "             names = ['machine_id', 'time_stamp', 'cpu', 'mem', 'mem_gps', \n",
    "                      'mkpi', 'net_in', 'net_out', 'disk_io_percent'])\n",
    "workload.time_stamp = pd.to_datetime(workload.time_stamp, unit='s')\n",
    "workload.set_index('time_stamp', inplace=True)\n",
    "workload = workload.resample('1min').interpolate()\n",
    "workload"
   ]
  },
  {
   "cell_type": "markdown",
   "id": "e66ab92d",
   "metadata": {},
   "source": [
    "###  Separar treino e teste"
   ]
  },
  {
   "cell_type": "code",
   "execution_count": 3,
   "id": "7a90a3f3",
   "metadata": {},
   "outputs": [],
   "source": [
    "# Separar conjunto de treino e de teste dos dadas de CPU\n",
    "test_len = len(workload)//3\n",
    "train_set = workload.cpu[:-test_len]\n",
    "test_set = workload.cpu[-test_len:]"
   ]
  },
  {
   "cell_type": "markdown",
   "id": "12a0a800",
   "metadata": {},
   "source": [
    "### Modelo ARIMA"
   ]
  },
  {
   "cell_type": "code",
   "execution_count": 4,
   "id": "e988cd62",
   "metadata": {},
   "outputs": [
    {
     "data": {
      "text/plain": [
       "const     42.694827\n",
       "ar.L1      0.832763\n",
       "sigma2    39.843238\n",
       "dtype: float64"
      ]
     },
     "execution_count": 4,
     "metadata": {},
     "output_type": "execute_result"
    }
   ],
   "source": [
    "# modelo ARIMA\n",
    "order=(1,0,0)\n",
    "model_train = ARIMA(train_set, order=order).fit()\n",
    "model_test = ARIMA(test_set, order=order).fit(model_train.params)\n",
    "model_test.params"
   ]
  },
  {
   "cell_type": "markdown",
   "id": "f758dc92",
   "metadata": {},
   "source": [
    "### Validação do modelo\n",
    "Na validação do modelo foi utilizada a técnica do erro quadrático médio, com o método 'mse' da biblioteca statsmodels.\n",
    "Este método recebe como parâmetro o conjunto de teste e a previsão gerada pelo modelo. O resultado apresentado significa a taxa de erro, quanto menor melhor."
   ]
  },
  {
   "cell_type": "code",
   "execution_count": 5,
   "id": "47c44480",
   "metadata": {},
   "outputs": [
    {
     "data": {
      "text/plain": [
       "39.84162459430432"
      ]
     },
     "execution_count": 5,
     "metadata": {},
     "output_type": "execute_result"
    }
   ],
   "source": [
    "mse(test_set, model_test.predict())"
   ]
  },
  {
   "cell_type": "markdown",
   "id": "24dd2801",
   "metadata": {},
   "source": [
    "### Seleção dos melhores parâmetros\n",
    "O método ARIMA(p,d,q) recebe 3 parâmetros que representam:\n",
    "- p: componente autoregressivo\n",
    "- d: diferença (usado quando a série não é estacionária)\n",
    "- q: componente de média móvel\n",
    "\n",
    "O script abaixo cria diversos modelos, com parâmetors distintos e apresenta ao final a melhor ordem (conjunto de parâmetros) do modelo que obteve o menor erro"
   ]
  },
  {
   "cell_type": "code",
   "execution_count": null,
   "id": "42adfe24",
   "metadata": {
    "scrolled": false
   },
   "outputs": [
    {
     "name": "stdout",
     "output_type": "stream",
     "text": [
      "(0, 0, 0) 129.84524486455732 | (0, 0, 1) 72.25104007428565 | (0, 0, 2) 55.7937419123866 | (0, 0, 3) 48.445133218674634 | (0, 0, 4) 45.2405435041367 | (0, 0, 5) 43.535304246812 | (1, 0, 0) 39.84162459430432 | (1, 0, 1) 36.4645720677644 | (1, 0, 2) 35.74750210094735 | (1, 0, 3) 35.06660239809883 | (1, 0, 4) 34.73698442093359 | (1, 0, 5) 34.72463740564743 | (2, 0, 0) 37.32344445899683 | (2, 0, 1) 34.99273311187604 | (2, 0, 2) 34.75202648916373 | (2, 0, 3) 34.72382723883093 | (2, 0, 4) 34.71212709173613 | (2, 0, 5) 34.58812060005872 | (3, 0, 0) 36.87218643340865 | (3, 0, 1) 34.729865022006386 | (3, 0, 2) 34.73339285897584 | (3, 0, 3) 34.72163210769149 | (3, 0, 4) 34.706037167236786 | (3, 0, 5) 34.69760212148971 | (4, 0, 0) 36.527411581154986 | (4, 0, 1) 34.72856471807566 | (4, 0, 2) 34.70892931453725 | (4, 0, 3) 34.713421768587686 | (4, 0, 4) 34.74517139140235 | (4, 0, 5) 34.6462577917944 | (5, 0, 0) 35.83358560086394 | (5, 0, 1) 34.723357014475674 | (5, 0, 2) 34.70855004156479 | (5, 0, 3) 34.68238882310102 | (5, 0, 4) 34.65390868224052 | (5, 0, 5) 34.720454995497526 | (6, 0, 0) 35.507969468126674 | (6, 0, 1) 34.6265126373376 | (6, 0, 2) 34.70004753991974 | (6, 0, 3) 34.64813423945588 | (6, 0, 4) 34.707161732755736 | (6, 0, 5) 34.706860220258356 | (7, 0, 0) 35.305656810800805 | (7, 0, 1) 34.58760992560454 | (7, 0, 2) 34.58354736752426 | (7, 0, 3) 34.63536854097138 | (7, 0, 4) 34.703750854778136 | (7, 0, 5) 34.637550608053424 | (8, 0, 0) 35.245798761696534 | (8, 0, 1) 34.57592154558265 | (8, 0, 2) 34.5561866198944 | (8, 0, 3) 34.609264050582546 | (8, 0, 4) 34.645076865567574 | (8, 0, 5) 34.58833869494641 | (9, 0, 0) 35.24066850204341 | (9, 0, 1) 34.57458837180062 | (9, 0, 2) 34.523222409649215 | (9, 0, 3) 34.511751374427455 | (9, 0, 4) 34.493508517712 | (9, 0, 5) 34.53907993325644 | (10, 0, 0) 34.9352409181895 | (10, 0, 1) 34.52486889826663 | (10, 0, 2) 34.517235827410744 | (10, 0, 3) 34.502026360754506 | (10, 0, 4) 34.47005064495819 | (10, 0, 5) 34.48221702924588 | (11, 0, 0) 34.87092662043094 | (11, 0, 1) 34.439769775573915 | (11, 0, 2) 34.49052242438673 | (11, 0, 3) 34.4975667715927 | (11, 0, 4) 34.45086946485957 | (11, 0, 5) 34.46560512878971 | (12, 0, 0) 34.81427783919214 | (12, 0, 1) 34.43580825799665 | (12, 0, 2) 34.41667960108128 | (12, 0, 3) 34.42512052900914 | "
     ]
    }
   ],
   "source": [
    "# define alguns valores limites a serem testados \n",
    "# neste caso a diferença (d) será zero, pois a série é estacionária\n",
    "max_p, max_d, max_q = 12, 0, 5\n",
    "\n",
    "# cria uma lista com todas as combinações possíveis destes parâmetros, observando os limites definidos acima\n",
    "orders = []\n",
    "for p in range(max_p+1):\n",
    "    for d in range(max_d+1):\n",
    "        for q in range(max_q+1):\n",
    "            orders.append((p,d,q))\n",
    "\n",
    "# valida cada modelo\n",
    "errors = []\n",
    "for order in orders:\n",
    "    saved_model = f'saved_models/arima{\"\".join(map(str, order))}.pkl'\n",
    "    if not os.path.isfile(saved_model):\n",
    "        # cria e salva um modelo caso não exista\n",
    "        model_train = ARIMA(train_set, order=order).fit()\n",
    "        model_test = ARIMA(test_set, order=order).fit(model_train.params)\n",
    "        model_test.save(saved_model)\n",
    "    else:\n",
    "        # carrega um modelo salvo\n",
    "        model_test = ARIMAResults.load(saved_model)\n",
    "        \n",
    "    # guarda os erros de cada modelo em uma lista\n",
    "    error = mse(test_set, model_test.predict())\n",
    "    errors.append(error)\n",
    "    print(order, error, end = ' | ')\n",
    "\n",
    "# identifica a melhor ordem (p,d,q) que apresentou o menor erro\n",
    "best_order = None\n",
    "for order, error in zip(orders, errors):\n",
    "    best_error = min(errors)\n",
    "    best_order = order if error == best_error else best_order\n",
    "print(f'\\n\\nMelhor resultado:\\n\\tordem: {best_order}\\n\\terro: {best_error}')"
   ]
  },
  {
   "cell_type": "markdown",
   "id": "066f9f2e",
   "metadata": {},
   "source": [
    "### Comparar previsão x teste"
   ]
  },
  {
   "cell_type": "code",
   "execution_count": null,
   "id": "05bf8878",
   "metadata": {},
   "outputs": [],
   "source": [
    "# compara a previsão com o conjunto de teste\n",
    "plt.figure(figsize=(18,4))\n",
    "plt.plot(train_set)\n",
    "plt.plot(test_set)\n",
    "plt.plot(model_test.predict())\n",
    "plt.legend(['Treino', 'Teste', 'Previsão'])\n",
    "plt.xlabel('tempo')\n",
    "plt.ylabel('% cpu')"
   ]
  },
  {
   "cell_type": "markdown",
   "id": "499a0342",
   "metadata": {},
   "source": [
    "### Previsão de valores futuros"
   ]
  },
  {
   "cell_type": "code",
   "execution_count": null,
   "id": "932a5c24",
   "metadata": {},
   "outputs": [],
   "source": [
    "# Próximo passo\n",
    "predict = model_test.forecast()\n",
    "plt.figure(figsize=(18,4))\n",
    "plt.plot(train_set[-100:])\n",
    "plt.plot(test_set)\n",
    "plt.plot(model_test.predict())\n",
    "plt.scatter(predict.index, predict, color='red')\n",
    "plt.text(predict.index, predict*1.035, f'{predict[0]:.2f}')\n",
    "plt.legend(['Treino', 'Teste', 'Previsão', 'Previsão Futura'])\n",
    "predict"
   ]
  },
  {
   "cell_type": "code",
   "execution_count": null,
   "id": "3d860a4c",
   "metadata": {},
   "outputs": [],
   "source": [
    "# Conjunto de passos futuros\n",
    "predict = model_test.forecast(steps=100)\n",
    "plt.figure(figsize=(18,4))\n",
    "plt.plot(train_set[-100:])\n",
    "plt.plot(test_set)\n",
    "plt.plot(model_test.predict())\n",
    "plt.plot(predict)\n",
    "plt.legend(['Treino', 'Teste', 'Previsão', 'Previsão Futura'])\n",
    "predict"
   ]
  }
 ],
 "metadata": {
  "kernelspec": {
   "display_name": "Python 3",
   "language": "python",
   "name": "python3"
  },
  "language_info": {
   "codemirror_mode": {
    "name": "ipython",
    "version": 3
   },
   "file_extension": ".py",
   "mimetype": "text/x-python",
   "name": "python",
   "nbconvert_exporter": "python",
   "pygments_lexer": "ipython3",
   "version": "3.8.0"
  },
  "varInspector": {
   "cols": {
    "lenName": 16,
    "lenType": 16,
    "lenVar": 40
   },
   "kernels_config": {
    "python": {
     "delete_cmd_postfix": "",
     "delete_cmd_prefix": "del ",
     "library": "var_list.py",
     "varRefreshCmd": "print(var_dic_list())"
    },
    "r": {
     "delete_cmd_postfix": ") ",
     "delete_cmd_prefix": "rm(",
     "library": "var_list.r",
     "varRefreshCmd": "cat(var_dic_list()) "
    }
   },
   "types_to_exclude": [
    "module",
    "function",
    "builtin_function_or_method",
    "instance",
    "_Feature"
   ],
   "window_display": false
  }
 },
 "nbformat": 4,
 "nbformat_minor": 5
}
